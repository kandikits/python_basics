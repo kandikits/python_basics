{
 "cells": [
  {
   "cell_type": "markdown",
   "id": "675d9c9d",
   "metadata": {},
   "source": [
    "## Weight Converter Program"
   ]
  },
  {
   "cell_type": "code",
   "execution_count": 1,
   "id": "12c9138f",
   "metadata": {},
   "outputs": [
    {
     "name": "stdout",
     "output_type": "stream",
     "text": [
      "Please enter the weight: 76\n",
      "Enter unit in Lbs (L) or Kgs (K): l\n",
      "You are 34.2 kilos\n"
     ]
    }
   ],
   "source": [
    "weight=float(input(\"Please enter the weight: \"))\n",
    "unit= input(\"Enter unit in Lbs (L) or Kgs (K): \")\n",
    "if unit.upper()=='L':\n",
    "    convert= weight*0.45\n",
    "    print(f\"You are {convert} kilos\")\n",
    "else:\n",
    "    convert=weight/0.45\n",
    "    print(f\"You are {convert} pounds\")"
   ]
  },
  {
   "cell_type": "markdown",
   "id": "f8b41898",
   "metadata": {},
   "source": [
    "## Boolean variables"
   ]
  },
  {
   "cell_type": "code",
   "execution_count": 2,
   "id": "20fff62f",
   "metadata": {},
   "outputs": [
    {
     "name": "stdout",
     "output_type": "stream",
     "text": [
      "Python has 2 type of booleans True  and  False\n",
      "5\n",
      "Hello World\n",
      "Welcome to Python Valley, The Place of Fun\n",
      "3.5\n",
      "1234\n",
      "1234\n",
      "False\n",
      "3 120 0\n"
     ]
    }
   ],
   "source": [
    "!python boolean.py"
   ]
  },
  {
   "cell_type": "markdown",
   "id": "8b68ec29",
   "metadata": {},
   "source": [
    "## Functions"
   ]
  },
  {
   "cell_type": "code",
   "execution_count": 3,
   "id": "3b54e78b",
   "metadata": {},
   "outputs": [
    {
     "name": "stdout",
     "output_type": "stream",
     "text": [
      "this code will run\n",
      "12\n"
     ]
    }
   ],
   "source": [
    "!python functions.py"
   ]
  },
  {
   "cell_type": "markdown",
   "id": "9ad43bdd",
   "metadata": {},
   "source": [
    "## Lists"
   ]
  },
  {
   "cell_type": "code",
   "execution_count": 4,
   "id": "e56d0249",
   "metadata": {
    "scrolled": true
   },
   "outputs": [
    {
     "name": "stdout",
     "output_type": "stream",
     "text": [
      "[1, 6, 3, 2, 6, 1, 2, 6, 7, 55]\n",
      "[1, 6, 33, 3, 2, 6, 1, 2, 6, 7, 55]\n",
      "[1, 33, 3, 2, 6, 1, 2, 6, 7, 55]\n",
      "1\n",
      "0\n",
      "2\n",
      "[1, 1, 2, 2, 3, 6, 6, 7, 33, 55]\n",
      "['Alice', 'Bob', 'Dan', 'Jack', 'Jan', 'Jon']\n"
     ]
    }
   ],
   "source": [
    "!python lists.py"
   ]
  },
  {
   "cell_type": "code",
   "execution_count": 5,
   "id": "26b1d6b6",
   "metadata": {},
   "outputs": [
    {
     "name": "stdout",
     "output_type": "stream",
     "text": [
      "{'Jack': 15, 'Bob': 22, 'Alice': 12, 'Kevin': 17}\n",
      "15\n",
      "{'Jack': 15, 'Bob': 22, 'Alice': 12, 'Kevin': 17, 'Tim': 14}\n",
      "{'Jack': 15, 'Bob': 22, 'Alice': 12, 'Kevin': 17, 'Tim': 15}\n",
      "{'Jack': 15, 'Bob': 22, 'Alice': 12, 'Kevin': 17}\n",
      "blonde\n"
     ]
    }
   ],
   "source": [
    "!python dictionary.py"
   ]
  }
 ],
 "metadata": {
  "kernelspec": {
   "display_name": "Python 3 (ipykernel)",
   "language": "python",
   "name": "python3"
  },
  "language_info": {
   "codemirror_mode": {
    "name": "ipython",
    "version": 3
   },
   "file_extension": ".py",
   "mimetype": "text/x-python",
   "name": "python",
   "nbconvert_exporter": "python",
   "pygments_lexer": "ipython3",
   "version": "3.9.8"
  }
 },
 "nbformat": 4,
 "nbformat_minor": 5
}
