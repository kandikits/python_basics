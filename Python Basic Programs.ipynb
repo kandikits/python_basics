{
 "cells": [
  {
   "cell_type": "markdown",
   "id": "675d9c9d",
   "metadata": {},
   "source": [
    "## Weight Converter Program"
   ]
  },
  {
   "cell_type": "code",
   "execution_count": null,
   "id": "12c9138f",
   "metadata": {},
   "outputs": [],
   "source": [
    "weight=float(input(\"Please enter the weight: \"))\n",
    "unit= input(\"Enter unit in Lbs (L) or Kgs (K): \")\n",
    "if unit.upper()=='L':\n",
    "    convert= weight*0.45\n",
    "    print(f\"You are {convert} kilos\")\n",
    "else:\n",
    "    convert=weight/0.45\n",
    "    print(f\"You are {convert} pounds\")"
   ]
  },
  {
   "cell_type": "markdown",
   "id": "f8b41898",
   "metadata": {},
   "source": [
    "## Boolean variables"
   ]
  },
  {
   "cell_type": "code",
   "execution_count": 1,
   "id": "20fff62f",
   "metadata": {},
   "outputs": [
    {
     "name": "stdout",
     "output_type": "stream",
     "text": [
      "Python has 10 type of booleans True  and  False\n",
      "They are normally the result of comparisons\n",
      "8  is less than 10\n",
      "What we just saw are conditional statements.\n",
      "It's ok if you do not understand them, we will look into them in greater details very soon.\n"
     ]
    }
   ],
   "source": [
    "!python boolean.py"
   ]
  },
  {
   "cell_type": "markdown",
   "id": "8b68ec29",
   "metadata": {},
   "source": [
    "## Functions"
   ]
  },
  {
   "cell_type": "code",
   "execution_count": 2,
   "id": "3b54e78b",
   "metadata": {},
   "outputs": [
    {
     "name": "stdout",
     "output_type": "stream",
     "text": [
      "Calling function max_val\n",
      "Returns the maximum of the specified arguments.\n",
      "\n",
      "  Arguments must be numbers\n",
      "Calling function min_val\n",
      "Returns the minimum of the specified arguments.\n",
      "\n",
      "  Arguments must be numbers\n",
      "The usage of functions min_val and max_val\n",
      "functin max_val was called 3  times\n",
      "function min_val was called 3  times\n"
     ]
    }
   ],
   "source": [
    "!python functions.py"
   ]
  },
  {
   "cell_type": "markdown",
   "id": "9ad43bdd",
   "metadata": {},
   "source": [
    "## Lists"
   ]
  },
  {
   "cell_type": "code",
   "execution_count": 1,
   "id": "e56d0249",
   "metadata": {
    "scrolled": true
   },
   "outputs": [
    {
     "name": "stdout",
     "output_type": "stream",
     "text": [
      "I know of  5 langs that can run on the JVM\n",
      "I know of  5 langs that can run on the JVM\n",
      "Oops I forgot Clojure\n",
      "Java\n",
      "Jython\n",
      "Groovy\n",
      "Scala\n",
      "Jruby\n",
      "Clojure\n",
      "The 3rd JVM language is  Groovy\n",
      "The first 3 JVM languages are  ['Java', 'Jython', 'Groovy']\n",
      "The 2nd to 4th JVM languages are  ['Jython', 'Groovy', 'Scala']\n",
      "let's sort these languages\n",
      "['Clojure', 'Groovy', 'Java', 'Jruby', 'Jython', 'Scala']\n"
     ]
    }
   ],
   "source": [
    "!python lists.py"
   ]
  },
  {
   "cell_type": "code",
   "execution_count": 2,
   "id": "26b1d6b6",
   "metadata": {},
   "outputs": [
    {
     "name": "stdout",
     "output_type": "stream",
     "text": [
      "\n",
      "Printing the phonebook\n",
      "{'joe': '568-564-1109', 'ashish': '657-097-7862'}\n",
      "\n",
      "Printing joe's phone number\n",
      "\n",
      "Adding an element to the phonebook\n",
      "\n",
      "Printing the phone number of the newly added contact joel\n",
      "657\n",
      "\n",
      "Itearating across the phonebook with it's keys\n",
      "joe 568-564-1109\n",
      "ashish 657-097-7862\n",
      "joel 657\n",
      "\n",
      "Here's how we remove an element from the dictionary - removing 'joel'\n",
      "\n",
      "Iterating across the phonebook with key and value\n",
      "joe 568-564-1109\n",
      "ashish 657-097-7862\n"
     ]
    }
   ],
   "source": [
    "!python dictionary.py"
   ]
  }
 ],
 "metadata": {
  "kernelspec": {
   "display_name": "Python 3 (ipykernel)",
   "language": "python",
   "name": "python3"
  },
  "language_info": {
   "codemirror_mode": {
    "name": "ipython",
    "version": 3
   },
   "file_extension": ".py",
   "mimetype": "text/x-python",
   "name": "python",
   "nbconvert_exporter": "python",
   "pygments_lexer": "ipython3",
   "version": "3.9.8"
  }
 },
 "nbformat": 4,
 "nbformat_minor": 5
}
